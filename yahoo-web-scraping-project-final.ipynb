{
 "cells": [
  {
   "cell_type": "markdown",
   "metadata": {
    "id": "NUmG4iW1ZaRo"
   },
   "source": [
    "# Scraping UK's most active stocks from Yahoo Finance\n",
    "![.](https://i.imgur.com/0AwqPhP.jpeg)\n",
    "\n",
    "[Yahoo Finance UK](https://uk.finance.yahoo.com/) provides free stock quotes, up-to-date and premium news and video, portfolio management resources, real-time market data, career tips, and personal finance that make your money work better for you.\n",
    "\n",
    "The page https://uk.finance.yahoo.com/most-active provides a list of the most active stocks on Yahoo Finance for the United Kingdom region. In this project, we'll retrieve information from this page using _web scraping_: the process of extracting information from a website and store it in a structured form in an automated fashion using code.\n",
    "\n",
    "We'll use the Python libraries [Requests](https://docs.python-requests.org/en/master/) and [Beautiful Soup](https://beautiful-soup-4.readthedocs.io/en/latest/) to scrape data from this page. \n",
    "\n",
    "Here's an outline of the steps we'll follow:\n",
    "1. Download the webpage using `requests`\n",
    "2. Parse the HTML source code using beautiful soup\n",
    "3. Extract information about the stocks from the page\n",
    "4. Compile extracted information into Python lists and dictionaries\n",
    "5. Extract data from multiple pages\n",
    "6. Save the extracted information to a CSV file.\n",
    "\n",
    "By the end of the project, we'll create a CSV file in the following format:\n",
    "\n",
    "```\n",
    "symbol,name,price,change,change%,market cap,url\n",
    "SYME.L, Supply@ME Capital plc,0.3316,-0.0024,-0.7186%,107.6M,https://uk.finance.yahoo.com/quote/SYME.L?p=SYME.L\n",
    "...\n",
    "```\n",
    "\n",
    "Before going any further, Let's understand a bit more about the fields we are going to extract:\n",
    "\n",
    "* **Symbol** - A stock symbol is a unique series of letters assigned to a security for trading purposes. Stocks listed on the New York Stock Exchange (NYSE) can have four or fewer letters. Nasdaq-listed securities can have up to five characters. Symbols are just a shorthand way of describing a company's stock, so there is no significant difference between those that have three letters and those that have four or five. Stock symbols are also known as ticker symbols.\n",
    "* **name** - company's name\n",
    "* **price** - is the amount it would cost to buy one share in a company. The price of a share is not fixed but fluctuates according to market conditions. It will likely increase if the company is perceived to be doing well, or fall if the company isn't meeting expectations\n",
    "* **change** -  refers to a price difference that occurs between two points in time. ... For a stock or bond quote, change is the difference between the current price and the last trade of the previous day.\n",
    "* **change%** - The Percent Change measures the absolute percentage price change of the security’s price since the previous day’s close. It is quoted as a percentage of the previous days’ close.\n",
    "* **market cap** - Market capitalization refers to the total dollar market value of a company's outstanding shares of stock. Commonly referred to as \"market cap,\" it is calculated by multiplying the total number of a company's outstanding shares by the current market price of one share.\n",
    "* **url** - a Uniform Resource Locator, a tool used to find webpages.\n",
    "\n"
   ]
  },
  {
   "cell_type": "markdown",
   "metadata": {
    "id": "vpfbOON0ZaRs"
   },
   "source": [
    "## How to Run the code\n",
    "You can execute the code using the 'Run' button at the top of this page and selecting 'Run on Binder'. You can make changes and save your own version of the notebook to [Jovian](https://jovian.ai/) by executing the following cells:"
   ]
  },
  {
   "cell_type": "code",
   "execution_count": 3,
   "metadata": {
    "executionInfo": {
     "elapsed": 4585,
     "status": "ok",
     "timestamp": 1655902282501,
     "user": {
      "displayName": "darshan desai",
      "userId": "11472869745356489508"
     },
     "user_tz": -60
    },
    "id": "xU1tn_q4ZaRt"
   },
   "outputs": [],
   "source": [
    "!pip install jovian --upgrade --quiet"
   ]
  },
  {
   "cell_type": "code",
   "execution_count": 4,
   "metadata": {
    "executionInfo": {
     "elapsed": 4,
     "status": "ok",
     "timestamp": 1655902282501,
     "user": {
      "displayName": "darshan desai",
      "userId": "11472869745356489508"
     },
     "user_tz": -60
    },
    "id": "MaspE7bPZaRu"
   },
   "outputs": [],
   "source": [
    "import jovian"
   ]
  },
  {
   "cell_type": "code",
   "execution_count": 5,
   "metadata": {
    "colab": {
     "base_uri": "https://localhost:8080/",
     "height": 122
    },
    "executionInfo": {
     "elapsed": 14614,
     "status": "ok",
     "timestamp": 1655902297441,
     "user": {
      "displayName": "darshan desai",
      "userId": "11472869745356489508"
     },
     "user_tz": -60
    },
    "id": "gmnY5UtoZaRu",
    "outputId": "7238ec2a-5a13-455c-9869-ebab6b1219f0",
    "scrolled": true
   },
   "outputs": [
    {
     "name": "stdout",
     "output_type": "stream",
     "text": [
      "[jovian] Detected Colab notebook...\u001b[0m\n",
      "[jovian] Please enter your API key ( from https://jovian.ai/ ):\u001b[0m\n",
      "API KEY: ··········\n",
      "[jovian] Uploading colab notebook to Jovian...\u001b[0m\n",
      "Committed successfully! https://jovian.ai/darshandesai/yahoo-web-scraping-project-final\n"
     ]
    },
    {
     "data": {
      "application/vnd.google.colaboratory.intrinsic+json": {
       "type": "string"
      },
      "text/plain": [
       "'https://jovian.ai/darshandesai/yahoo-web-scraping-project-final'"
      ]
     },
     "execution_count": 5,
     "metadata": {},
     "output_type": "execute_result"
    }
   ],
   "source": [
    "# Execute this to save new versions of the notebook\n",
    "jovian.commit(project=\"final\")"
   ]
  },
  {
   "cell_type": "markdown",
   "metadata": {
    "id": "ZelTdyKTZaRw"
   },
   "source": [
    "## Download the webpage using `requests`\n",
    "\n",
    "We'll use the `requests` library to download the web page.\n",
    "\n",
    "The library can be installed using pip."
   ]
  },
  {
   "cell_type": "code",
   "execution_count": 6,
   "metadata": {
    "executionInfo": {
     "elapsed": 4320,
     "status": "ok",
     "timestamp": 1655902301755,
     "user": {
      "displayName": "darshan desai",
      "userId": "11472869745356489508"
     },
     "user_tz": -60
    },
    "id": "Yy0K8kilZaRx"
   },
   "outputs": [],
   "source": [
    "!pip install requests==2.23.0 --upgrade --quiet"
   ]
  },
  {
   "cell_type": "code",
   "execution_count": 7,
   "metadata": {
    "executionInfo": {
     "elapsed": 6,
     "status": "ok",
     "timestamp": 1655902301755,
     "user": {
      "displayName": "darshan desai",
      "userId": "11472869745356489508"
     },
     "user_tz": -60
    },
    "id": "n-Stbb8OZaRy"
   },
   "outputs": [],
   "source": [
    "import requests"
   ]
  },
  {
   "cell_type": "markdown",
   "metadata": {
    "id": "7C8KD4wEZaRz"
   },
   "source": [
    "The library is now installed and imported.\n",
    "\n",
    "To download a page, we can use the`get`function from requests, which returns a response object."
   ]
  },
  {
   "cell_type": "code",
   "execution_count": 8,
   "metadata": {
    "executionInfo": {
     "elapsed": 5,
     "status": "ok",
     "timestamp": 1655902301755,
     "user": {
      "displayName": "darshan desai",
      "userId": "11472869745356489508"
     },
     "user_tz": -60
    },
    "id": "-bDGahtFZaRz"
   },
   "outputs": [],
   "source": [
    "act_stocks_url = 'https://uk.finance.yahoo.com/most-active'\n",
    "response = requests.get(act_stocks_url)"
   ]
  },
  {
   "cell_type": "markdown",
   "metadata": {
    "id": "38H0R46OZaR0"
   },
   "source": [
    "`requests.get` returns a response object containing the data from the web page and some other information.\n",
    "\n",
    "The `.status_code` property can be used to check if the response was successful. A successful response will have an [HTTP status code](https://developer.mozilla.org/en-US/docs/Web/HTTP/Status) between 200 and 299."
   ]
  },
  {
   "cell_type": "code",
   "execution_count": 9,
   "metadata": {
    "colab": {
     "base_uri": "https://localhost:8080/"
    },
    "executionInfo": {
     "elapsed": 4,
     "status": "ok",
     "timestamp": 1655902301755,
     "user": {
      "displayName": "darshan desai",
      "userId": "11472869745356489508"
     },
     "user_tz": -60
    },
    "id": "7iurstpVZaR0",
    "outputId": "280943e6-e94c-449b-b70c-dd7c2a3e89d0",
    "scrolled": true
   },
   "outputs": [
    {
     "data": {
      "text/plain": [
       "200"
      ]
     },
     "execution_count": 9,
     "metadata": {},
     "output_type": "execute_result"
    }
   ],
   "source": [
    "response.status_code"
   ]
  },
  {
   "cell_type": "markdown",
   "metadata": {
    "id": "mP1f8brEZaR0"
   },
   "source": [
    "The request was successful! We can get the contents of the page using respose.text."
   ]
  },
  {
   "cell_type": "code",
   "execution_count": 10,
   "metadata": {
    "executionInfo": {
     "elapsed": 7,
     "status": "ok",
     "timestamp": 1655902302158,
     "user": {
      "displayName": "darshan desai",
      "userId": "11472869745356489508"
     },
     "user_tz": -60
    },
    "id": "jNNaz_yvZaR1"
   },
   "outputs": [],
   "source": [
    "page_content = response.text"
   ]
  },
  {
   "cell_type": "markdown",
   "metadata": {
    "id": "EMc7RqVOZaR1"
   },
   "source": [
    "Let's check the no. of characters on the page."
   ]
  },
  {
   "cell_type": "code",
   "execution_count": 11,
   "metadata": {
    "colab": {
     "base_uri": "https://localhost:8080/"
    },
    "executionInfo": {
     "elapsed": 7,
     "status": "ok",
     "timestamp": 1655902302159,
     "user": {
      "displayName": "darshan desai",
      "userId": "11472869745356489508"
     },
     "user_tz": -60
    },
    "id": "9BOpUWPsZaR1",
    "outputId": "d80c4e35-c1ea-48ef-8729-cb8b1f526df3",
    "scrolled": false
   },
   "outputs": [
    {
     "data": {
      "text/plain": [
       "1009159"
      ]
     },
     "execution_count": 11,
     "metadata": {},
     "output_type": "execute_result"
    }
   ],
   "source": [
    "len(page_content)"
   ]
  },
  {
   "cell_type": "markdown",
   "metadata": {
    "id": "nVLzgdrQZaR1"
   },
   "source": [
    "The page contains over **900,000** characters!\n",
    "\n",
    "Here are the first 1000 characters of the page:"
   ]
  },
  {
   "cell_type": "code",
   "execution_count": 12,
   "metadata": {
    "colab": {
     "base_uri": "https://localhost:8080/",
     "height": 105
    },
    "executionInfo": {
     "elapsed": 6,
     "status": "ok",
     "timestamp": 1655902302159,
     "user": {
      "displayName": "darshan desai",
      "userId": "11472869745356489508"
     },
     "user_tz": -60
    },
    "id": "tkYNXJm4ZaR2",
    "outputId": "c5c79a6c-3400-4f02-f0ac-468a17cd38b9",
    "scrolled": true
   },
   "outputs": [
    {
     "data": {
      "application/vnd.google.colaboratory.intrinsic+json": {
       "type": "string"
      },
      "text/plain": [
       "'<!DOCTYPE html><html data-color-theme=\"light\" id=\"atomic\" class=\"NoJs chrome desktop failsafe\" lang=\"en-GB\"><head prefix=\"og: http://ogp.me/ns#\"><script>window.performance && window.performance.mark && window.performance.mark(\\'PageStart\\');</script><meta charset=\"utf-8\" /><title>Most active stocks today – Yahoo Finance</title><meta name=\"keywords\" content=\"Stock screener, industry, index membership, share data, stock price, market cap, beta, sales, profitability, valuation ratios, analyst estimates, large cap value, bargain growth, preset stock screens\" /><meta http-equiv=\"x-dns-prefetch-control\" content=\"on\" /><meta property=\"twitter:dnt\" content=\"on\" /><meta property=\"fb:app_id\" content=\"115060728528067\" /><meta name=\"theme-color\" content=\"#400090\" /><meta name=\"viewport\" content=\"width=device-width, initial-scale=1\" /><meta name=\"description\" lang=\"en-GB\" content=\"See a list of the most active stocks today, including share price change and percentage, trading volume, intra-day highs '"
      ]
     },
     "execution_count": 12,
     "metadata": {},
     "output_type": "execute_result"
    }
   ],
   "source": [
    "page_content[:1000]"
   ]
  },
  {
   "cell_type": "markdown",
   "metadata": {
    "id": "_QCqs_ykZaR2"
   },
   "source": [
    "What we're looking at above is the [HTML source code](https://simple.wikipedia.org/wiki/HTML) of the web page.\n",
    "\n",
    "We can also save it to a file and view the page locally within Jupyter using \"file >Open\"."
   ]
  },
  {
   "cell_type": "code",
   "execution_count": 13,
   "metadata": {
    "executionInfo": {
     "elapsed": 6,
     "status": "ok",
     "timestamp": 1655902302160,
     "user": {
      "displayName": "darshan desai",
      "userId": "11472869745356489508"
     },
     "user_tz": -60
    },
    "id": "w2k9NqERZaR2"
   },
   "outputs": [],
   "source": [
    "with open('webpage.html', 'w') as f:\n",
    "    f.write(page_content)"
   ]
  },
  {
   "cell_type": "markdown",
   "metadata": {
    "id": "FE7hw4T3ZaR3"
   },
   "source": [
    "The preview looks similar to the original page, but none of the links work.\n",
    "\n",
    "![.](https://i.imgur.com/jUCnw2S.png)\n",
    "\n",
    "We have successfully downloaded the web page using requests."
   ]
  },
  {
   "cell_type": "markdown",
   "metadata": {
    "id": "QpVDd--XZaR3"
   },
   "source": [
    "## Parse the HTML source code using beautiful soup\n",
    "\n",
    "\n"
   ]
  },
  {
   "cell_type": "markdown",
   "metadata": {
    "id": "3s6XIg3OZaR3"
   },
   "source": [
    "First, We are going to import the `Beautifulsoup` library from `beautifulsoup4`."
   ]
  },
  {
   "cell_type": "code",
   "execution_count": 14,
   "metadata": {
    "colab": {
     "base_uri": "https://localhost:8080/"
    },
    "executionInfo": {
     "elapsed": 7008,
     "status": "ok",
     "timestamp": 1655902309163,
     "user": {
      "displayName": "darshan desai",
      "userId": "11472869745356489508"
     },
     "user_tz": -60
    },
    "id": "51ZyRuYxZaR3",
    "outputId": "2808aeaa-1dbc-4a93-f350-908b93ebbc9e"
   },
   "outputs": [
    {
     "name": "stdout",
     "output_type": "stream",
     "text": [
      "\u001b[?25l\r",
      "\u001b[K     |██▋                             | 10 kB 15.5 MB/s eta 0:00:01\r",
      "\u001b[K     |█████▏                          | 20 kB 2.4 MB/s eta 0:00:01\r",
      "\u001b[K     |███████▊                        | 30 kB 3.4 MB/s eta 0:00:01\r",
      "\u001b[K     |██████████▎                     | 40 kB 4.4 MB/s eta 0:00:01\r",
      "\u001b[K     |████████████▉                   | 51 kB 5.3 MB/s eta 0:00:01\r",
      "\u001b[K     |███████████████▍                | 61 kB 6.3 MB/s eta 0:00:01\r",
      "\u001b[K     |██████████████████              | 71 kB 6.4 MB/s eta 0:00:01\r",
      "\u001b[K     |████████████████████▌           | 81 kB 6.4 MB/s eta 0:00:01\r",
      "\u001b[K     |███████████████████████         | 92 kB 7.1 MB/s eta 0:00:01\r",
      "\u001b[K     |█████████████████████████▋      | 102 kB 6.7 MB/s eta 0:00:01\r",
      "\u001b[K     |████████████████████████████▏   | 112 kB 6.7 MB/s eta 0:00:01\r",
      "\u001b[K     |██████████████████████████████▊ | 122 kB 6.7 MB/s eta 0:00:01\r",
      "\u001b[K     |████████████████████████████████| 128 kB 6.7 MB/s \n",
      "\u001b[?25h"
     ]
    }
   ],
   "source": [
    "!pip install beautifulsoup4 --upgrade --quiet"
   ]
  },
  {
   "cell_type": "code",
   "execution_count": 15,
   "metadata": {
    "executionInfo": {
     "elapsed": 340,
     "status": "ok",
     "timestamp": 1655902309489,
     "user": {
      "displayName": "darshan desai",
      "userId": "11472869745356489508"
     },
     "user_tz": -60
    },
    "id": "lt8KEXLLZaR4"
   },
   "outputs": [],
   "source": [
    "from bs4 import BeautifulSoup"
   ]
  },
  {
   "cell_type": "markdown",
   "metadata": {
    "id": "9ll72s7zZaR4"
   },
   "source": [
    "We've installed and imported BeautifulSoup library"
   ]
  },
  {
   "cell_type": "markdown",
   "metadata": {
    "id": "otIR5o4LZaR4"
   },
   "source": [
    "Now, We're going to create a parsed document \"doc\" using the above library"
   ]
  },
  {
   "cell_type": "code",
   "execution_count": 16,
   "metadata": {
    "executionInfo": {
     "elapsed": 249,
     "status": "ok",
     "timestamp": 1655902309735,
     "user": {
      "displayName": "darshan desai",
      "userId": "11472869745356489508"
     },
     "user_tz": -60
    },
    "id": "KtpDBAQ1ZaR4"
   },
   "outputs": [],
   "source": [
    "doc = BeautifulSoup(response.text, 'html.parser')"
   ]
  },
  {
   "cell_type": "code",
   "execution_count": 17,
   "metadata": {
    "colab": {
     "base_uri": "https://localhost:8080/"
    },
    "executionInfo": {
     "elapsed": 5,
     "status": "ok",
     "timestamp": 1655902309735,
     "user": {
      "displayName": "darshan desai",
      "userId": "11472869745356489508"
     },
     "user_tz": -60
    },
    "id": "4PmTvGZaZaR4",
    "outputId": "f6813d73-a0f2-43a3-e42a-1db96f2779b4"
   },
   "outputs": [
    {
     "data": {
      "text/plain": [
       "<title>Most active stocks today – Yahoo Finance</title>"
      ]
     },
     "execution_count": 17,
     "metadata": {},
     "output_type": "execute_result"
    }
   ],
   "source": [
    "doc.find('title')"
   ]
  },
  {
   "cell_type": "markdown",
   "metadata": {
    "id": "iLDr3NQ6ZaR4"
   },
   "source": [
    "Let's create a function to download a page using `requests` and parse it using Beautifulsoup."
   ]
  },
  {
   "cell_type": "code",
   "execution_count": 18,
   "metadata": {
    "executionInfo": {
     "elapsed": 4,
     "status": "ok",
     "timestamp": 1655902309736,
     "user": {
      "displayName": "darshan desai",
      "userId": "11472869745356489508"
     },
     "user_tz": -60
    },
    "id": "coxBZGkxZaR5"
   },
   "outputs": [],
   "source": [
    "def get_page(url):\n",
    "    \"\"\" Download a web page and return a beautiful soup doc\"\"\"\n",
    "    #Download the page\n",
    "    response = requests.get(url)\n",
    "    \n",
    "    # check if download was successful and if not, raise an exception\n",
    "    if response.status_code != 200:\n",
    "        raise Exception('Unable to download page{}'. format(url))\n",
    "        \n",
    "    # Get the page HTML\n",
    "    page_content = response.text\n",
    "        \n",
    "     # Create a bs4 doc\n",
    "    doc = BeautifulSoup(response.text, 'html.parser')\n",
    "    return doc"
   ]
  },
  {
   "cell_type": "code",
   "execution_count": 19,
   "metadata": {
    "executionInfo": {
     "elapsed": 286,
     "status": "ok",
     "timestamp": 1655902310018,
     "user": {
      "displayName": "darshan desai",
      "userId": "11472869745356489508"
     },
     "user_tz": -60
    },
    "id": "frzKAcw0ZaR5"
   },
   "outputs": [],
   "source": [
    "doc = get_page(act_stocks_url)"
   ]
  },
  {
   "cell_type": "code",
   "execution_count": 20,
   "metadata": {
    "colab": {
     "base_uri": "https://localhost:8080/"
    },
    "executionInfo": {
     "elapsed": 305,
     "status": "ok",
     "timestamp": 1655902310321,
     "user": {
      "displayName": "darshan desai",
      "userId": "11472869745356489508"
     },
     "user_tz": -60
    },
    "id": "KJmEj9QhZaR5",
    "outputId": "df6d1537-5e3b-4d85-efcd-ba068551d8c5"
   },
   "outputs": [
    {
     "data": {
      "text/plain": [
       "<title>Most active stocks today – Yahoo Finance</title>"
      ]
     },
     "execution_count": 20,
     "metadata": {},
     "output_type": "execute_result"
    }
   ],
   "source": [
    "doc.find('title')"
   ]
  },
  {
   "cell_type": "markdown",
   "metadata": {
    "id": "8kgkoHFjZaR5"
   },
   "source": [
    "In above section, We parsed the document using the Beautifulsoup library and also created a function **`get_page`** to download any web page using requests and parse it using beautiful soup."
   ]
  },
  {
   "cell_type": "markdown",
   "metadata": {
    "id": "2OvDEPW9ZaR5"
   },
   "source": [
    "## Extract required information from the page"
   ]
  },
  {
   "cell_type": "markdown",
   "metadata": {
    "id": "JFv0msZvZaR6"
   },
   "source": [
    "Let's create functions to extract **symbol, name, price, change, change%, market cap, url** fields from the page"
   ]
  },
  {
   "cell_type": "markdown",
   "metadata": {
    "id": "uqYe8K4JZaR6"
   },
   "source": [
    "### Stock Symbols"
   ]
  },
  {
   "cell_type": "code",
   "execution_count": 21,
   "metadata": {
    "code_folding": [],
    "executionInfo": {
     "elapsed": 8,
     "status": "ok",
     "timestamp": 1655902310321,
     "user": {
      "displayName": "darshan desai",
      "userId": "11472869745356489508"
     },
     "user_tz": -60
    },
    "id": "rOIpH2lGZaR6"
   },
   "outputs": [],
   "source": [
    "def get_stock_symbols(doc):\n",
    "    stk_table = doc.find('table', class_='W(100%)')\n",
    "    for stk in stk_table.find_all('tbody'):\n",
    "        rows = stk.find_all('tr')\n",
    "        for row in rows:\n",
    "            return [row.find('td').text for row in rows]"
   ]
  },
  {
   "cell_type": "markdown",
   "metadata": {
    "id": "UrOdOmQ5ZaR6"
   },
   "source": [
    "We have defined the get_stock_symbols function and let's use it to get symbols from the page."
   ]
  },
  {
   "cell_type": "code",
   "execution_count": 22,
   "metadata": {
    "executionInfo": {
     "elapsed": 7,
     "status": "ok",
     "timestamp": 1655902310321,
     "user": {
      "displayName": "darshan desai",
      "userId": "11472869745356489508"
     },
     "user_tz": -60
    },
    "id": "UyS8Jn-uZaR6"
   },
   "outputs": [],
   "source": [
    "symbols = get_stock_symbols(doc)"
   ]
  },
  {
   "cell_type": "code",
   "execution_count": 23,
   "metadata": {
    "colab": {
     "base_uri": "https://localhost:8080/"
    },
    "executionInfo": {
     "elapsed": 8,
     "status": "ok",
     "timestamp": 1655902310322,
     "user": {
      "displayName": "darshan desai",
      "userId": "11472869745356489508"
     },
     "user_tz": -60
    },
    "id": "r1xty9i9ZaR6",
    "outputId": "887d1821-a010-432d-8284-4bf27d79bef9"
   },
   "outputs": [
    {
     "data": {
      "text/plain": [
       "['3LRR.L', 'RBD.L', 'PREM.L', '0RTY.IL', 'UKOG.L']"
      ]
     },
     "execution_count": 23,
     "metadata": {},
     "output_type": "execute_result"
    }
   ],
   "source": [
    "symbols[:5]"
   ]
  },
  {
   "cell_type": "code",
   "execution_count": 24,
   "metadata": {
    "colab": {
     "base_uri": "https://localhost:8080/"
    },
    "executionInfo": {
     "elapsed": 6,
     "status": "ok",
     "timestamp": 1655902310322,
     "user": {
      "displayName": "darshan desai",
      "userId": "11472869745356489508"
     },
     "user_tz": -60
    },
    "id": "PF1B0R5nZaR6",
    "outputId": "b05b6ce1-9990-4959-824e-023956dac202",
    "scrolled": true
   },
   "outputs": [
    {
     "data": {
      "text/plain": [
       "25"
      ]
     },
     "execution_count": 24,
     "metadata": {},
     "output_type": "execute_result"
    }
   ],
   "source": [
    "len(symbols)"
   ]
  },
  {
   "cell_type": "markdown",
   "metadata": {
    "id": "ZAp9Tx6VZaR7"
   },
   "source": [
    "We have extracted 25 symbols from the page."
   ]
  },
  {
   "cell_type": "markdown",
   "metadata": {
    "id": "hFbQuRmbZaR7"
   },
   "source": [
    "Similarly, we'll crate functions for the remaining fields below."
   ]
  },
  {
   "cell_type": "markdown",
   "metadata": {
    "id": "WGQrikHsZaR7"
   },
   "source": [
    "### Stock names"
   ]
  },
  {
   "cell_type": "code",
   "execution_count": 25,
   "metadata": {
    "executionInfo": {
     "elapsed": 5,
     "status": "ok",
     "timestamp": 1655902310322,
     "user": {
      "displayName": "darshan desai",
      "userId": "11472869745356489508"
     },
     "user_tz": -60
    },
    "id": "JqCxLkdbZaR7"
   },
   "outputs": [],
   "source": [
    "def get_stock_names(doc):\n",
    "    stk_table = doc.find('table', class_='W(100%)')\n",
    "    for stk in stk_table.find_all('tbody'):\n",
    "        rows = stk.find_all('tr')\n",
    "        for row in rows:\n",
    "            return [row.find('td', class_='Va(m) Ta(start) Px(10px) Fz(s)').text for row in rows]\n",
    "       "
   ]
  },
  {
   "cell_type": "code",
   "execution_count": 26,
   "metadata": {
    "executionInfo": {
     "elapsed": 5,
     "status": "ok",
     "timestamp": 1655902310322,
     "user": {
      "displayName": "darshan desai",
      "userId": "11472869745356489508"
     },
     "user_tz": -60
    },
    "id": "UnQia4twZaR7"
   },
   "outputs": [],
   "source": [
    "names = get_stock_names(doc)"
   ]
  },
  {
   "cell_type": "code",
   "execution_count": 27,
   "metadata": {
    "colab": {
     "base_uri": "https://localhost:8080/"
    },
    "executionInfo": {
     "elapsed": 5,
     "status": "ok",
     "timestamp": 1655902310322,
     "user": {
      "displayName": "darshan desai",
      "userId": "11472869745356489508"
     },
     "user_tz": -60
    },
    "id": "z_YfDA3VZaR7",
    "outputId": "15f71662-7fe4-4753-ab03-0ab53538909f"
   },
   "outputs": [
    {
     "data": {
      "text/plain": [
       "['GraniteShares 3x Long Rolls-Royce Daily ETC',\n",
       " 'Reabold Resources plc',\n",
       " 'Premier African Minerals Limited',\n",
       " 'Piraeus Financial Holdings S.A.',\n",
       " 'UK Oil & Gas Investments PLC']"
      ]
     },
     "execution_count": 27,
     "metadata": {},
     "output_type": "execute_result"
    }
   ],
   "source": [
    "names[:5]"
   ]
  },
  {
   "cell_type": "markdown",
   "metadata": {
    "id": "C-QhGfqHZaR8"
   },
   "source": [
    "### Stock prices"
   ]
  },
  {
   "cell_type": "code",
   "execution_count": 28,
   "metadata": {
    "executionInfo": {
     "elapsed": 5,
     "status": "ok",
     "timestamp": 1655902310323,
     "user": {
      "displayName": "darshan desai",
      "userId": "11472869745356489508"
     },
     "user_tz": -60
    },
    "id": "WXpHw5srZaR8"
   },
   "outputs": [],
   "source": [
    "def get_stock_prices(doc):\n",
    "    stk_table = doc.find('table', class_='W(100%)')\n",
    "    for stk in stk_table.find_all('tbody'):\n",
    "        rows = stk.find_all('tr')\n",
    "        for row in rows:\n",
    "            return [row.find('td', {'aria-label':'Price (intraday)'}).text for row in rows]\n"
   ]
  },
  {
   "cell_type": "code",
   "execution_count": 29,
   "metadata": {
    "executionInfo": {
     "elapsed": 5,
     "status": "ok",
     "timestamp": 1655902310323,
     "user": {
      "displayName": "darshan desai",
      "userId": "11472869745356489508"
     },
     "user_tz": -60
    },
    "id": "s_ITiJgpZaR8"
   },
   "outputs": [],
   "source": [
    "prices = get_stock_prices(doc)"
   ]
  },
  {
   "cell_type": "markdown",
   "metadata": {
    "id": "zoePV9lyZaR8"
   },
   "source": [
    "### Stock price changes"
   ]
  },
  {
   "cell_type": "code",
   "execution_count": 30,
   "metadata": {
    "executionInfo": {
     "elapsed": 5,
     "status": "ok",
     "timestamp": 1655902310323,
     "user": {
      "displayName": "darshan desai",
      "userId": "11472869745356489508"
     },
     "user_tz": -60
    },
    "id": "kqVCRZX0ZaR8"
   },
   "outputs": [],
   "source": [
    "def get_stock_changes(doc):\n",
    "    stk_table = doc.find('table', class_='W(100%)')\n",
    "    for stk in stk_table.find_all('tbody'):\n",
    "        rows = stk.find_all('tr')\n",
    "        for row in rows:\n",
    "            return [row.find('td', {'aria-label':'Change'}).text for row in rows]"
   ]
  },
  {
   "cell_type": "code",
   "execution_count": 31,
   "metadata": {
    "executionInfo": {
     "elapsed": 6,
     "status": "ok",
     "timestamp": 1655902310324,
     "user": {
      "displayName": "darshan desai",
      "userId": "11472869745356489508"
     },
     "user_tz": -60
    },
    "id": "I3oATfRhZaR8"
   },
   "outputs": [],
   "source": [
    "changes = get_stock_changes(doc)"
   ]
  },
  {
   "cell_type": "markdown",
   "metadata": {
    "id": "OGkHNaXuZaR8"
   },
   "source": [
    "### Stock % changes"
   ]
  },
  {
   "cell_type": "code",
   "execution_count": 32,
   "metadata": {
    "executionInfo": {
     "elapsed": 224,
     "status": "ok",
     "timestamp": 1655902310543,
     "user": {
      "displayName": "darshan desai",
      "userId": "11472869745356489508"
     },
     "user_tz": -60
    },
    "id": "dvTToJQFZaR8"
   },
   "outputs": [],
   "source": [
    "def get_stock_percnt_changes(doc):\n",
    "    stk_table = doc.find('table', class_='W(100%)')\n",
    "    for stk in stk_table.find_all('tbody'):\n",
    "        rows = stk.find_all('tr')\n",
    "        for row in rows:\n",
    "            return [row.find('td', {'aria-label':'% change'}).text for row in rows]\n"
   ]
  },
  {
   "cell_type": "code",
   "execution_count": 33,
   "metadata": {
    "executionInfo": {
     "elapsed": 8,
     "status": "ok",
     "timestamp": 1655902310543,
     "user": {
      "displayName": "darshan desai",
      "userId": "11472869745356489508"
     },
     "user_tz": -60
    },
    "id": "4vrLFdakZaR9"
   },
   "outputs": [],
   "source": [
    "percnt_changes = get_stock_percnt_changes(doc)"
   ]
  },
  {
   "cell_type": "markdown",
   "metadata": {
    "id": "emLe0FLrZaR9"
   },
   "source": [
    "### Stock Market cap"
   ]
  },
  {
   "cell_type": "code",
   "execution_count": 34,
   "metadata": {
    "executionInfo": {
     "elapsed": 8,
     "status": "ok",
     "timestamp": 1655902310544,
     "user": {
      "displayName": "darshan desai",
      "userId": "11472869745356489508"
     },
     "user_tz": -60
    },
    "id": "w7cEJOcPZaR9"
   },
   "outputs": [],
   "source": [
    "def get_stock_mkt_caps(doc):\n",
    "    stk_table = doc.find('table', class_='W(100%)')\n",
    "    for stk in stk_table.find_all('tbody'):\n",
    "        rows = stk.find_all('tr')\n",
    "        for row in rows:\n",
    "            return [row.find('td', {'aria-label':'Market cap'}).text for row in rows]"
   ]
  },
  {
   "cell_type": "code",
   "execution_count": 35,
   "metadata": {
    "executionInfo": {
     "elapsed": 7,
     "status": "ok",
     "timestamp": 1655902310544,
     "user": {
      "displayName": "darshan desai",
      "userId": "11472869745356489508"
     },
     "user_tz": -60
    },
    "id": "XT-b6WxxZaR9"
   },
   "outputs": [],
   "source": [
    "mkt_caps = get_stock_mkt_caps(doc)"
   ]
  },
  {
   "cell_type": "markdown",
   "metadata": {
    "id": "JlHaUqiZZaR9"
   },
   "source": [
    "### Stock urls"
   ]
  },
  {
   "cell_type": "code",
   "execution_count": 36,
   "metadata": {
    "executionInfo": {
     "elapsed": 7,
     "status": "ok",
     "timestamp": 1655902310544,
     "user": {
      "displayName": "darshan desai",
      "userId": "11472869745356489508"
     },
     "user_tz": -60
    },
    "id": "jHDL87AXZaR9"
   },
   "outputs": [],
   "source": [
    "def get_stock_urls(doc):\n",
    "    stk_table = doc.find('table', class_='W(100%)')\n",
    "    base_url = 'https://uk.finance.yahoo.com'\n",
    "    for stk in stk_table.find_all('tbody'):\n",
    "        rows = stk.find_all('tr')\n",
    "        for row in rows:\n",
    "            return [(base_url + row.find('a', href=True)['href']) for row in rows]"
   ]
  },
  {
   "cell_type": "code",
   "execution_count": 37,
   "metadata": {
    "executionInfo": {
     "elapsed": 7,
     "status": "ok",
     "timestamp": 1655902310544,
     "user": {
      "displayName": "darshan desai",
      "userId": "11472869745356489508"
     },
     "user_tz": -60
    },
    "id": "vhF9Wm91ZaR9"
   },
   "outputs": [],
   "source": [
    "stock_urls = get_stock_urls(doc)"
   ]
  },
  {
   "cell_type": "code",
   "execution_count": 38,
   "metadata": {
    "colab": {
     "base_uri": "https://localhost:8080/"
    },
    "executionInfo": {
     "elapsed": 7,
     "status": "ok",
     "timestamp": 1655902310544,
     "user": {
      "displayName": "darshan desai",
      "userId": "11472869745356489508"
     },
     "user_tz": -60
    },
    "id": "fAFaB6Zsdc3x",
    "outputId": "c8a25f13-9a05-4e1d-bc3b-7b7e5b077707"
   },
   "outputs": [
    {
     "data": {
      "text/plain": [
       "['https://uk.finance.yahoo.com/quote/3LRR.L?p=3LRR.L',\n",
       " 'https://uk.finance.yahoo.com/quote/RBD.L?p=RBD.L',\n",
       " 'https://uk.finance.yahoo.com/quote/PREM.L?p=PREM.L',\n",
       " 'https://uk.finance.yahoo.com/quote/0RTY.IL?p=0RTY.IL',\n",
       " 'https://uk.finance.yahoo.com/quote/UKOG.L?p=UKOG.L',\n",
       " 'https://uk.finance.yahoo.com/quote/3NGS.L?p=3NGS.L',\n",
       " 'https://uk.finance.yahoo.com/quote/BOIL.L?p=BOIL.L',\n",
       " 'https://uk.finance.yahoo.com/quote/CLON.L?p=CLON.L',\n",
       " 'https://uk.finance.yahoo.com/quote/KZG.L?p=KZG.L',\n",
       " 'https://uk.finance.yahoo.com/quote/VAST.L?p=VAST.L',\n",
       " 'https://uk.finance.yahoo.com/quote/LLOY.L?p=LLOY.L',\n",
       " 'https://uk.finance.yahoo.com/quote/0MPP.IL?p=0MPP.IL',\n",
       " 'https://uk.finance.yahoo.com/quote/MSMN.L?p=MSMN.L',\n",
       " 'https://uk.finance.yahoo.com/quote/EQT.L?p=EQT.L',\n",
       " 'https://uk.finance.yahoo.com/quote/UPL.L?p=UPL.L',\n",
       " 'https://uk.finance.yahoo.com/quote/VOD.L?p=VOD.L',\n",
       " 'https://uk.finance.yahoo.com/quote/HUR.L?p=HUR.L',\n",
       " 'https://uk.finance.yahoo.com/quote/POG.L?p=POG.L',\n",
       " 'https://uk.finance.yahoo.com/quote/KRS.L?p=KRS.L',\n",
       " 'https://uk.finance.yahoo.com/quote/BARC.L?p=BARC.L',\n",
       " 'https://uk.finance.yahoo.com/quote/KEFI.L?p=KEFI.L',\n",
       " 'https://uk.finance.yahoo.com/quote/KIBO.L?p=KIBO.L',\n",
       " 'https://uk.finance.yahoo.com/quote/3LNI.L?p=3LNI.L',\n",
       " 'https://uk.finance.yahoo.com/quote/GCAT.L?p=GCAT.L',\n",
       " 'https://uk.finance.yahoo.com/quote/BION.L?p=BION.L']"
      ]
     },
     "execution_count": 38,
     "metadata": {},
     "output_type": "execute_result"
    }
   ],
   "source": [
    "stock_urls"
   ]
  },
  {
   "cell_type": "markdown",
   "metadata": {
    "id": "A2nYNKEVZaR-"
   },
   "source": [
    "In the above section, We've created required functions to extract the necessary fields from the page. In the next section, we're going to compile the extracted information into a dictionary."
   ]
  },
  {
   "cell_type": "markdown",
   "metadata": {
    "id": "8GXJwDByZaR-"
   },
   "source": [
    "## Compile extracted information into a dictionary"
   ]
  },
  {
   "cell_type": "code",
   "execution_count": 39,
   "metadata": {
    "executionInfo": {
     "elapsed": 6,
     "status": "ok",
     "timestamp": 1655902310545,
     "user": {
      "displayName": "darshan desai",
      "userId": "11472869745356489508"
     },
     "user_tz": -60
    },
    "id": "X14ygyINZaR-"
   },
   "outputs": [],
   "source": [
    "stocks_data = {\n",
    "    'symbol': symbols,\n",
    "    'name': names,\n",
    "    'price': prices,\n",
    "    'change':changes,\n",
    "    '% change':percnt_changes,\n",
    "    'market cap':mkt_caps,\n",
    "    'url':stock_urls\n",
    "}\n"
   ]
  },
  {
   "cell_type": "markdown",
   "metadata": {
    "id": "GE5MfCITZaR-"
   },
   "source": [
    "We've created a stocks_data dictionary from the extracted information and now We'll use the pandas library to create a dataframe."
   ]
  },
  {
   "cell_type": "markdown",
   "metadata": {
    "id": "IQfP2Qc1ZaR-"
   },
   "source": [
    "Let's install and import pandas as pd"
   ]
  },
  {
   "cell_type": "code",
   "execution_count": 40,
   "metadata": {
    "colab": {
     "base_uri": "https://localhost:8080/"
    },
    "executionInfo": {
     "elapsed": 16644,
     "status": "ok",
     "timestamp": 1655902327184,
     "user": {
      "displayName": "darshan desai",
      "userId": "11472869745356489508"
     },
     "user_tz": -60
    },
    "id": "YlS4ftxNZaR-",
    "outputId": "0c53dc0f-9d14-47f9-b46f-893b22550ef7"
   },
   "outputs": [
    {
     "name": "stdout",
     "output_type": "stream",
     "text": [
      "\u001b[K     |████████████████████████████████| 10.5 MB 8.2 MB/s \n",
      "\u001b[?25h"
     ]
    }
   ],
   "source": [
    "!pip install pandas==1.1.0 --upgrade --quiet"
   ]
  },
  {
   "cell_type": "code",
   "execution_count": 41,
   "metadata": {
    "executionInfo": {
     "elapsed": 498,
     "status": "ok",
     "timestamp": 1655902327679,
     "user": {
      "displayName": "darshan desai",
      "userId": "11472869745356489508"
     },
     "user_tz": -60
    },
    "id": "rvJxCLD5ZaR-"
   },
   "outputs": [],
   "source": [
    "import pandas as pd"
   ]
  },
  {
   "cell_type": "code",
   "execution_count": 42,
   "metadata": {
    "colab": {
     "base_uri": "https://localhost:8080/",
     "height": 0
    },
    "executionInfo": {
     "elapsed": 8,
     "status": "ok",
     "timestamp": 1655902327679,
     "user": {
      "displayName": "darshan desai",
      "userId": "11472869745356489508"
     },
     "user_tz": -60
    },
    "id": "u0NAOb9DZaR-",
    "outputId": "a7caa378-8c3e-4257-9cf5-05722ba63678",
    "scrolled": true
   },
   "outputs": [
    {
     "data": {
      "text/html": [
       "\n",
       "  <div id=\"df-69bbe78f-f988-43fa-9c6f-0bfe0ed94511\">\n",
       "    <div class=\"colab-df-container\">\n",
       "      <div>\n",
       "<style scoped>\n",
       "    .dataframe tbody tr th:only-of-type {\n",
       "        vertical-align: middle;\n",
       "    }\n",
       "\n",
       "    .dataframe tbody tr th {\n",
       "        vertical-align: top;\n",
       "    }\n",
       "\n",
       "    .dataframe thead th {\n",
       "        text-align: right;\n",
       "    }\n",
       "</style>\n",
       "<table border=\"1\" class=\"dataframe\">\n",
       "  <thead>\n",
       "    <tr style=\"text-align: right;\">\n",
       "      <th></th>\n",
       "      <th>symbol</th>\n",
       "      <th>name</th>\n",
       "      <th>price</th>\n",
       "      <th>change</th>\n",
       "      <th>% change</th>\n",
       "      <th>market cap</th>\n",
       "      <th>url</th>\n",
       "    </tr>\n",
       "  </thead>\n",
       "  <tbody>\n",
       "    <tr>\n",
       "      <th>0</th>\n",
       "      <td>3LRR.L</td>\n",
       "      <td>GraniteShares 3x Long Rolls-Royce Daily ETC</td>\n",
       "      <td>0.1691</td>\n",
       "      <td>-0.0212</td>\n",
       "      <td>-11.14%</td>\n",
       "      <td>N/A</td>\n",
       "      <td>https://uk.finance.yahoo.com/quote/3LRR.L?p=3L...</td>\n",
       "    </tr>\n",
       "    <tr>\n",
       "      <th>1</th>\n",
       "      <td>RBD.L</td>\n",
       "      <td>Reabold Resources plc</td>\n",
       "      <td>0.2890</td>\n",
       "      <td>-0.0010</td>\n",
       "      <td>-0.34%</td>\n",
       "      <td>25.807M</td>\n",
       "      <td>https://uk.finance.yahoo.com/quote/RBD.L?p=RBD.L</td>\n",
       "    </tr>\n",
       "    <tr>\n",
       "      <th>2</th>\n",
       "      <td>PREM.L</td>\n",
       "      <td>Premier African Minerals Limited</td>\n",
       "      <td>0.3284</td>\n",
       "      <td>-0.0016</td>\n",
       "      <td>-0.48%</td>\n",
       "      <td>73.621M</td>\n",
       "      <td>https://uk.finance.yahoo.com/quote/PREM.L?p=PR...</td>\n",
       "    </tr>\n",
       "    <tr>\n",
       "      <th>3</th>\n",
       "      <td>0RTY.IL</td>\n",
       "      <td>Piraeus Financial Holdings S.A.</td>\n",
       "      <td>0.9846</td>\n",
       "      <td>-0.5354</td>\n",
       "      <td>-35.22%</td>\n",
       "      <td>1.231B</td>\n",
       "      <td>https://uk.finance.yahoo.com/quote/0RTY.IL?p=0...</td>\n",
       "    </tr>\n",
       "    <tr>\n",
       "      <th>4</th>\n",
       "      <td>UKOG.L</td>\n",
       "      <td>UK Oil &amp; Gas Investments PLC</td>\n",
       "      <td>0.1170</td>\n",
       "      <td>-0.0055</td>\n",
       "      <td>-4.49%</td>\n",
       "      <td>19M</td>\n",
       "      <td>https://uk.finance.yahoo.com/quote/UKOG.L?p=UK...</td>\n",
       "    </tr>\n",
       "    <tr>\n",
       "      <th>5</th>\n",
       "      <td>3NGS.L</td>\n",
       "      <td>WisdomTree Natural Gas 3x Daily Short</td>\n",
       "      <td>0.0326</td>\n",
       "      <td>+0.0014</td>\n",
       "      <td>+4.32%</td>\n",
       "      <td>N/A</td>\n",
       "      <td>https://uk.finance.yahoo.com/quote/3NGS.L?p=3N...</td>\n",
       "    </tr>\n",
       "    <tr>\n",
       "      <th>6</th>\n",
       "      <td>BOIL.L</td>\n",
       "      <td>Baron Oil Plc</td>\n",
       "      <td>0.0735</td>\n",
       "      <td>+0.0005</td>\n",
       "      <td>+0.68%</td>\n",
       "      <td>10.535M</td>\n",
       "      <td>https://uk.finance.yahoo.com/quote/BOIL.L?p=BO...</td>\n",
       "    </tr>\n",
       "    <tr>\n",
       "      <th>7</th>\n",
       "      <td>CLON.L</td>\n",
       "      <td>Clontarf Energy plc</td>\n",
       "      <td>0.0608</td>\n",
       "      <td>-0.0067</td>\n",
       "      <td>-9.93%</td>\n",
       "      <td>1.441M</td>\n",
       "      <td>https://uk.finance.yahoo.com/quote/CLON.L?p=CL...</td>\n",
       "    </tr>\n",
       "    <tr>\n",
       "      <th>8</th>\n",
       "      <td>KZG.L</td>\n",
       "      <td>Kazera Global plc</td>\n",
       "      <td>0.9250</td>\n",
       "      <td>0.0000</td>\n",
       "      <td>0.00%</td>\n",
       "      <td>8.669M</td>\n",
       "      <td>https://uk.finance.yahoo.com/quote/KZG.L?p=KZG.L</td>\n",
       "    </tr>\n",
       "    <tr>\n",
       "      <th>9</th>\n",
       "      <td>VAST.L</td>\n",
       "      <td>Vast Resources plc</td>\n",
       "      <td>0.7800</td>\n",
       "      <td>-0.0200</td>\n",
       "      <td>-2.50%</td>\n",
       "      <td>11.432M</td>\n",
       "      <td>https://uk.finance.yahoo.com/quote/VAST.L?p=VA...</td>\n",
       "    </tr>\n",
       "    <tr>\n",
       "      <th>10</th>\n",
       "      <td>LLOY.L</td>\n",
       "      <td>Lloyds Banking Group plc</td>\n",
       "      <td>43.57</td>\n",
       "      <td>+0.12</td>\n",
       "      <td>+0.29%</td>\n",
       "      <td>30.175B</td>\n",
       "      <td>https://uk.finance.yahoo.com/quote/LLOY.L?p=LL...</td>\n",
       "    </tr>\n",
       "    <tr>\n",
       "      <th>11</th>\n",
       "      <td>0MPP.IL</td>\n",
       "      <td>E.ON SE</td>\n",
       "      <td>8.68</td>\n",
       "      <td>-0.07</td>\n",
       "      <td>-0.82%</td>\n",
       "      <td>22.632B</td>\n",
       "      <td>https://uk.finance.yahoo.com/quote/0MPP.IL?p=0...</td>\n",
       "    </tr>\n",
       "    <tr>\n",
       "      <th>12</th>\n",
       "      <td>MSMN.L</td>\n",
       "      <td>Mosman Oil And Gas Limited</td>\n",
       "      <td>0.0677</td>\n",
       "      <td>+0.0027</td>\n",
       "      <td>+4.15%</td>\n",
       "      <td>3.534M</td>\n",
       "      <td>https://uk.finance.yahoo.com/quote/MSMN.L?p=MS...</td>\n",
       "    </tr>\n",
       "    <tr>\n",
       "      <th>13</th>\n",
       "      <td>EQT.L</td>\n",
       "      <td>EQTEC plc</td>\n",
       "      <td>0.6274</td>\n",
       "      <td>+0.0024</td>\n",
       "      <td>+0.38%</td>\n",
       "      <td>53.95M</td>\n",
       "      <td>https://uk.finance.yahoo.com/quote/EQT.L?p=EQT.L</td>\n",
       "    </tr>\n",
       "    <tr>\n",
       "      <th>14</th>\n",
       "      <td>UPL.L</td>\n",
       "      <td>Upland Resources Limited</td>\n",
       "      <td>0.1675</td>\n",
       "      <td>-0.0075</td>\n",
       "      <td>-4.29%</td>\n",
       "      <td>1.15M</td>\n",
       "      <td>https://uk.finance.yahoo.com/quote/UPL.L?p=UPL.L</td>\n",
       "    </tr>\n",
       "    <tr>\n",
       "      <th>15</th>\n",
       "      <td>VOD.L</td>\n",
       "      <td>Vodafone Group Plc</td>\n",
       "      <td>125.88</td>\n",
       "      <td>-1.88</td>\n",
       "      <td>-1.47%</td>\n",
       "      <td>35.309B</td>\n",
       "      <td>https://uk.finance.yahoo.com/quote/VOD.L?p=VOD.L</td>\n",
       "    </tr>\n",
       "    <tr>\n",
       "      <th>16</th>\n",
       "      <td>HUR.L</td>\n",
       "      <td>Hurricane Energy plc</td>\n",
       "      <td>7.64</td>\n",
       "      <td>+0.14</td>\n",
       "      <td>+1.80%</td>\n",
       "      <td>152.079M</td>\n",
       "      <td>https://uk.finance.yahoo.com/quote/HUR.L?p=HUR.L</td>\n",
       "    </tr>\n",
       "    <tr>\n",
       "      <th>17</th>\n",
       "      <td>POG.L</td>\n",
       "      <td>Petropavlovsk PLC</td>\n",
       "      <td>1.1750</td>\n",
       "      <td>-0.0155</td>\n",
       "      <td>-1.30%</td>\n",
       "      <td>46.515M</td>\n",
       "      <td>https://uk.finance.yahoo.com/quote/POG.L?p=POG.L</td>\n",
       "    </tr>\n",
       "    <tr>\n",
       "      <th>18</th>\n",
       "      <td>KRS.L</td>\n",
       "      <td>Keras Resources Plc</td>\n",
       "      <td>0.0775</td>\n",
       "      <td>0.0000</td>\n",
       "      <td>0.00%</td>\n",
       "      <td>6.18M</td>\n",
       "      <td>https://uk.finance.yahoo.com/quote/KRS.L?p=KRS.L</td>\n",
       "    </tr>\n",
       "    <tr>\n",
       "      <th>19</th>\n",
       "      <td>BARC.L</td>\n",
       "      <td>Barclays PLC</td>\n",
       "      <td>160.32</td>\n",
       "      <td>-0.10</td>\n",
       "      <td>-0.06%</td>\n",
       "      <td>26.61B</td>\n",
       "      <td>https://uk.finance.yahoo.com/quote/BARC.L?p=BA...</td>\n",
       "    </tr>\n",
       "    <tr>\n",
       "      <th>20</th>\n",
       "      <td>KEFI.L</td>\n",
       "      <td>KEFI Minerals Plc</td>\n",
       "      <td>0.6522</td>\n",
       "      <td>-0.0253</td>\n",
       "      <td>-3.73%</td>\n",
       "      <td>25.691M</td>\n",
       "      <td>https://uk.finance.yahoo.com/quote/KEFI.L?p=KE...</td>\n",
       "    </tr>\n",
       "    <tr>\n",
       "      <th>21</th>\n",
       "      <td>KIBO.L</td>\n",
       "      <td>Kibo Mining Plc</td>\n",
       "      <td>0.1200</td>\n",
       "      <td>-0.0050</td>\n",
       "      <td>-4.00%</td>\n",
       "      <td>3.647M</td>\n",
       "      <td>https://uk.finance.yahoo.com/quote/KIBO.L?p=KI...</td>\n",
       "    </tr>\n",
       "    <tr>\n",
       "      <th>22</th>\n",
       "      <td>3LNI.L</td>\n",
       "      <td>GraniteShares 3x Long NIO Daily ETC</td>\n",
       "      <td>0.0505</td>\n",
       "      <td>-0.0040</td>\n",
       "      <td>-7.34%</td>\n",
       "      <td>N/A</td>\n",
       "      <td>https://uk.finance.yahoo.com/quote/3LNI.L?p=3L...</td>\n",
       "    </tr>\n",
       "    <tr>\n",
       "      <th>23</th>\n",
       "      <td>GCAT.L</td>\n",
       "      <td>Caracal Gold plc</td>\n",
       "      <td>0.6895</td>\n",
       "      <td>-0.0105</td>\n",
       "      <td>-1.50%</td>\n",
       "      <td>11.303M</td>\n",
       "      <td>https://uk.finance.yahoo.com/quote/GCAT.L?p=GC...</td>\n",
       "    </tr>\n",
       "    <tr>\n",
       "      <th>24</th>\n",
       "      <td>BION.L</td>\n",
       "      <td>BiON plc</td>\n",
       "      <td>0.3250</td>\n",
       "      <td>-0.0250</td>\n",
       "      <td>-7.14%</td>\n",
       "      <td>2.486M</td>\n",
       "      <td>https://uk.finance.yahoo.com/quote/BION.L?p=BI...</td>\n",
       "    </tr>\n",
       "  </tbody>\n",
       "</table>\n",
       "</div>\n",
       "      <button class=\"colab-df-convert\" onclick=\"convertToInteractive('df-69bbe78f-f988-43fa-9c6f-0bfe0ed94511')\"\n",
       "              title=\"Convert this dataframe to an interactive table.\"\n",
       "              style=\"display:none;\">\n",
       "        \n",
       "  <svg xmlns=\"http://www.w3.org/2000/svg\" height=\"24px\"viewBox=\"0 0 24 24\"\n",
       "       width=\"24px\">\n",
       "    <path d=\"M0 0h24v24H0V0z\" fill=\"none\"/>\n",
       "    <path d=\"M18.56 5.44l.94 2.06.94-2.06 2.06-.94-2.06-.94-.94-2.06-.94 2.06-2.06.94zm-11 1L8.5 8.5l.94-2.06 2.06-.94-2.06-.94L8.5 2.5l-.94 2.06-2.06.94zm10 10l.94 2.06.94-2.06 2.06-.94-2.06-.94-.94-2.06-.94 2.06-2.06.94z\"/><path d=\"M17.41 7.96l-1.37-1.37c-.4-.4-.92-.59-1.43-.59-.52 0-1.04.2-1.43.59L10.3 9.45l-7.72 7.72c-.78.78-.78 2.05 0 2.83L4 21.41c.39.39.9.59 1.41.59.51 0 1.02-.2 1.41-.59l7.78-7.78 2.81-2.81c.8-.78.8-2.07 0-2.86zM5.41 20L4 18.59l7.72-7.72 1.47 1.35L5.41 20z\"/>\n",
       "  </svg>\n",
       "      </button>\n",
       "      \n",
       "  <style>\n",
       "    .colab-df-container {\n",
       "      display:flex;\n",
       "      flex-wrap:wrap;\n",
       "      gap: 12px;\n",
       "    }\n",
       "\n",
       "    .colab-df-convert {\n",
       "      background-color: #E8F0FE;\n",
       "      border: none;\n",
       "      border-radius: 50%;\n",
       "      cursor: pointer;\n",
       "      display: none;\n",
       "      fill: #1967D2;\n",
       "      height: 32px;\n",
       "      padding: 0 0 0 0;\n",
       "      width: 32px;\n",
       "    }\n",
       "\n",
       "    .colab-df-convert:hover {\n",
       "      background-color: #E2EBFA;\n",
       "      box-shadow: 0px 1px 2px rgba(60, 64, 67, 0.3), 0px 1px 3px 1px rgba(60, 64, 67, 0.15);\n",
       "      fill: #174EA6;\n",
       "    }\n",
       "\n",
       "    [theme=dark] .colab-df-convert {\n",
       "      background-color: #3B4455;\n",
       "      fill: #D2E3FC;\n",
       "    }\n",
       "\n",
       "    [theme=dark] .colab-df-convert:hover {\n",
       "      background-color: #434B5C;\n",
       "      box-shadow: 0px 1px 3px 1px rgba(0, 0, 0, 0.15);\n",
       "      filter: drop-shadow(0px 1px 2px rgba(0, 0, 0, 0.3));\n",
       "      fill: #FFFFFF;\n",
       "    }\n",
       "  </style>\n",
       "\n",
       "      <script>\n",
       "        const buttonEl =\n",
       "          document.querySelector('#df-69bbe78f-f988-43fa-9c6f-0bfe0ed94511 button.colab-df-convert');\n",
       "        buttonEl.style.display =\n",
       "          google.colab.kernel.accessAllowed ? 'block' : 'none';\n",
       "\n",
       "        async function convertToInteractive(key) {\n",
       "          const element = document.querySelector('#df-69bbe78f-f988-43fa-9c6f-0bfe0ed94511');\n",
       "          const dataTable =\n",
       "            await google.colab.kernel.invokeFunction('convertToInteractive',\n",
       "                                                     [key], {});\n",
       "          if (!dataTable) return;\n",
       "\n",
       "          const docLinkHtml = 'Like what you see? Visit the ' +\n",
       "            '<a target=\"_blank\" href=https://colab.research.google.com/notebooks/data_table.ipynb>data table notebook</a>'\n",
       "            + ' to learn more about interactive tables.';\n",
       "          element.innerHTML = '';\n",
       "          dataTable['output_type'] = 'display_data';\n",
       "          await google.colab.output.renderOutput(dataTable, element);\n",
       "          const docLink = document.createElement('div');\n",
       "          docLink.innerHTML = docLinkHtml;\n",
       "          element.appendChild(docLink);\n",
       "        }\n",
       "      </script>\n",
       "    </div>\n",
       "  </div>\n",
       "  "
      ],
      "text/plain": [
       "     symbol                                         name   price   change  \\\n",
       "0    3LRR.L  GraniteShares 3x Long Rolls-Royce Daily ETC  0.1691  -0.0212   \n",
       "1     RBD.L                        Reabold Resources plc  0.2890  -0.0010   \n",
       "2    PREM.L             Premier African Minerals Limited  0.3284  -0.0016   \n",
       "3   0RTY.IL              Piraeus Financial Holdings S.A.  0.9846  -0.5354   \n",
       "4    UKOG.L                 UK Oil & Gas Investments PLC  0.1170  -0.0055   \n",
       "5    3NGS.L        WisdomTree Natural Gas 3x Daily Short  0.0326  +0.0014   \n",
       "6    BOIL.L                                Baron Oil Plc  0.0735  +0.0005   \n",
       "7    CLON.L                          Clontarf Energy plc  0.0608  -0.0067   \n",
       "8     KZG.L                            Kazera Global plc  0.9250   0.0000   \n",
       "9    VAST.L                           Vast Resources plc  0.7800  -0.0200   \n",
       "10   LLOY.L                     Lloyds Banking Group plc   43.57    +0.12   \n",
       "11  0MPP.IL                                      E.ON SE    8.68    -0.07   \n",
       "12   MSMN.L                   Mosman Oil And Gas Limited  0.0677  +0.0027   \n",
       "13    EQT.L                                    EQTEC plc  0.6274  +0.0024   \n",
       "14    UPL.L                     Upland Resources Limited  0.1675  -0.0075   \n",
       "15    VOD.L                           Vodafone Group Plc  125.88    -1.88   \n",
       "16    HUR.L                         Hurricane Energy plc    7.64    +0.14   \n",
       "17    POG.L                            Petropavlovsk PLC  1.1750  -0.0155   \n",
       "18    KRS.L                          Keras Resources Plc  0.0775   0.0000   \n",
       "19   BARC.L                                 Barclays PLC  160.32    -0.10   \n",
       "20   KEFI.L                            KEFI Minerals Plc  0.6522  -0.0253   \n",
       "21   KIBO.L                              Kibo Mining Plc  0.1200  -0.0050   \n",
       "22   3LNI.L          GraniteShares 3x Long NIO Daily ETC  0.0505  -0.0040   \n",
       "23   GCAT.L                             Caracal Gold plc  0.6895  -0.0105   \n",
       "24   BION.L                                     BiON plc  0.3250  -0.0250   \n",
       "\n",
       "   % change market cap                                                url  \n",
       "0   -11.14%        N/A  https://uk.finance.yahoo.com/quote/3LRR.L?p=3L...  \n",
       "1    -0.34%    25.807M   https://uk.finance.yahoo.com/quote/RBD.L?p=RBD.L  \n",
       "2    -0.48%    73.621M  https://uk.finance.yahoo.com/quote/PREM.L?p=PR...  \n",
       "3   -35.22%     1.231B  https://uk.finance.yahoo.com/quote/0RTY.IL?p=0...  \n",
       "4    -4.49%        19M  https://uk.finance.yahoo.com/quote/UKOG.L?p=UK...  \n",
       "5    +4.32%        N/A  https://uk.finance.yahoo.com/quote/3NGS.L?p=3N...  \n",
       "6    +0.68%    10.535M  https://uk.finance.yahoo.com/quote/BOIL.L?p=BO...  \n",
       "7    -9.93%     1.441M  https://uk.finance.yahoo.com/quote/CLON.L?p=CL...  \n",
       "8     0.00%     8.669M   https://uk.finance.yahoo.com/quote/KZG.L?p=KZG.L  \n",
       "9    -2.50%    11.432M  https://uk.finance.yahoo.com/quote/VAST.L?p=VA...  \n",
       "10   +0.29%    30.175B  https://uk.finance.yahoo.com/quote/LLOY.L?p=LL...  \n",
       "11   -0.82%    22.632B  https://uk.finance.yahoo.com/quote/0MPP.IL?p=0...  \n",
       "12   +4.15%     3.534M  https://uk.finance.yahoo.com/quote/MSMN.L?p=MS...  \n",
       "13   +0.38%     53.95M   https://uk.finance.yahoo.com/quote/EQT.L?p=EQT.L  \n",
       "14   -4.29%      1.15M   https://uk.finance.yahoo.com/quote/UPL.L?p=UPL.L  \n",
       "15   -1.47%    35.309B   https://uk.finance.yahoo.com/quote/VOD.L?p=VOD.L  \n",
       "16   +1.80%   152.079M   https://uk.finance.yahoo.com/quote/HUR.L?p=HUR.L  \n",
       "17   -1.30%    46.515M   https://uk.finance.yahoo.com/quote/POG.L?p=POG.L  \n",
       "18    0.00%      6.18M   https://uk.finance.yahoo.com/quote/KRS.L?p=KRS.L  \n",
       "19   -0.06%     26.61B  https://uk.finance.yahoo.com/quote/BARC.L?p=BA...  \n",
       "20   -3.73%    25.691M  https://uk.finance.yahoo.com/quote/KEFI.L?p=KE...  \n",
       "21   -4.00%     3.647M  https://uk.finance.yahoo.com/quote/KIBO.L?p=KI...  \n",
       "22   -7.34%        N/A  https://uk.finance.yahoo.com/quote/3LNI.L?p=3L...  \n",
       "23   -1.50%    11.303M  https://uk.finance.yahoo.com/quote/GCAT.L?p=GC...  \n",
       "24   -7.14%     2.486M  https://uk.finance.yahoo.com/quote/BION.L?p=BI...  "
      ]
     },
     "execution_count": 42,
     "metadata": {},
     "output_type": "execute_result"
    }
   ],
   "source": [
    "pd.DataFrame(stocks_data)"
   ]
  },
  {
   "cell_type": "markdown",
   "metadata": {
    "id": "z4R-6gWMZaR_"
   },
   "source": [
    "We used pandas to create a dataframe in the above section.\n"
   ]
  },
  {
   "cell_type": "markdown",
   "metadata": {
    "id": "Zc8EX1cTdc3y"
   },
   "source": [
    "## Getting information out of a stock page"
   ]
  },
  {
   "cell_type": "code",
   "execution_count": 43,
   "metadata": {
    "executionInfo": {
     "elapsed": 8,
     "status": "ok",
     "timestamp": 1655902327680,
     "user": {
      "displayName": "darshan desai",
      "userId": "11472869745356489508"
     },
     "user_tz": -60
    },
    "id": "GQ5nRCNLdc3y"
   },
   "outputs": [],
   "source": [
    "stock_page_url = stock_urls[0]"
   ]
  },
  {
   "cell_type": "code",
   "execution_count": 44,
   "metadata": {
    "colab": {
     "base_uri": "https://localhost:8080/",
     "height": 35
    },
    "executionInfo": {
     "elapsed": 7,
     "status": "ok",
     "timestamp": 1655902327680,
     "user": {
      "displayName": "darshan desai",
      "userId": "11472869745356489508"
     },
     "user_tz": -60
    },
    "id": "z33u6CdZdc3y",
    "outputId": "c8757e4c-cca8-4af3-f00d-79d81caeab8e"
   },
   "outputs": [
    {
     "data": {
      "application/vnd.google.colaboratory.intrinsic+json": {
       "type": "string"
      },
      "text/plain": [
       "'https://uk.finance.yahoo.com/quote/3LRR.L?p=3LRR.L'"
      ]
     },
     "execution_count": 44,
     "metadata": {},
     "output_type": "execute_result"
    }
   ],
   "source": [
    "stock_page_url"
   ]
  },
  {
   "cell_type": "markdown",
   "metadata": {
    "id": "jK4rQ8ZYgYps"
   },
   "source": [
    "### Install Selenium"
   ]
  },
  {
   "cell_type": "code",
   "execution_count": 45,
   "metadata": {
    "colab": {
     "base_uri": "https://localhost:8080/"
    },
    "executionInfo": {
     "elapsed": 14533,
     "status": "ok",
     "timestamp": 1655902342207,
     "user": {
      "displayName": "darshan desai",
      "userId": "11472869745356489508"
     },
     "user_tz": -60
    },
    "id": "WmXudlCRgYP8",
    "outputId": "be36088e-b410-4221-8287-b77049ad53ac"
   },
   "outputs": [
    {
     "name": "stdout",
     "output_type": "stream",
     "text": [
      "\u001b[K     |████████████████████████████████| 983 kB 8.5 MB/s \n",
      "\u001b[K     |████████████████████████████████| 358 kB 42.0 MB/s \n",
      "\u001b[K     |████████████████████████████████| 138 kB 50.3 MB/s \n",
      "\u001b[K     |████████████████████████████████| 4.0 MB 39.8 MB/s \n",
      "\u001b[K     |████████████████████████████████| 55 kB 3.4 MB/s \n",
      "\u001b[K     |████████████████████████████████| 58 kB 4.3 MB/s \n",
      "\u001b[31mERROR: pip's dependency resolver does not currently take into account all the packages that are installed. This behaviour is the source of the following dependency conflicts.\n",
      "requests 2.23.0 requires urllib3!=1.25.0,!=1.25.1,<1.26,>=1.21.1, but you have urllib3 1.26.9 which is incompatible.\n",
      "datascience 0.10.6 requires folium==0.2.1, but you have folium 0.8.3 which is incompatible.\u001b[0m\n",
      "\u001b[?25h"
     ]
    }
   ],
   "source": [
    "!pip install selenium --quiet"
   ]
  },
  {
   "cell_type": "code",
   "execution_count": 46,
   "metadata": {
    "executionInfo": {
     "elapsed": 12,
     "status": "ok",
     "timestamp": 1655902342207,
     "user": {
      "displayName": "darshan desai",
      "userId": "11472869745356489508"
     },
     "user_tz": -60
    },
    "id": "lmuOGMSZgYMC"
   },
   "outputs": [],
   "source": [
    "from selenium import webdriver\n",
    "from selenium.webdriver.common.keys import Keys"
   ]
  },
  {
   "cell_type": "code",
   "execution_count": 47,
   "metadata": {
    "colab": {
     "base_uri": "https://localhost:8080/",
     "height": 432
    },
    "executionInfo": {
     "elapsed": 463,
     "status": "error",
     "timestamp": 1655902342660,
     "user": {
      "displayName": "darshan desai",
      "userId": "11472869745356489508"
     },
     "user_tz": -60
    },
    "id": "djxkONlXgYI0",
    "outputId": "97e2d69b-f689-471c-ba3e-59f33f5c3022"
   },
   "outputs": [
    {
     "ename": "WebDriverException",
     "evalue": "ignored",
     "output_type": "error",
     "traceback": [
      "\u001b[0;31m---------------------------------------------------------------------------\u001b[0m",
      "\u001b[0;31mFileNotFoundError\u001b[0m                         Traceback (most recent call last)",
      "\u001b[0;32m/usr/local/lib/python3.7/dist-packages/selenium/webdriver/common/service.py\u001b[0m in \u001b[0;36mstart\u001b[0;34m(self)\u001b[0m\n\u001b[1;32m     75\u001b[0m                                             \u001b[0mstdin\u001b[0m\u001b[0;34m=\u001b[0m\u001b[0mPIPE\u001b[0m\u001b[0;34m,\u001b[0m\u001b[0;34m\u001b[0m\u001b[0;34m\u001b[0m\u001b[0m\n\u001b[0;32m---> 76\u001b[0;31m                                             creationflags=self.creationflags)\n\u001b[0m\u001b[1;32m     77\u001b[0m         \u001b[0;32mexcept\u001b[0m \u001b[0mTypeError\u001b[0m\u001b[0;34m:\u001b[0m\u001b[0;34m\u001b[0m\u001b[0;34m\u001b[0m\u001b[0m\n",
      "\u001b[0;32m/usr/lib/python3.7/subprocess.py\u001b[0m in \u001b[0;36m__init__\u001b[0;34m(self, args, bufsize, executable, stdin, stdout, stderr, preexec_fn, close_fds, shell, cwd, env, universal_newlines, startupinfo, creationflags, restore_signals, start_new_session, pass_fds, encoding, errors, text)\u001b[0m\n\u001b[1;32m    799\u001b[0m                                 \u001b[0merrread\u001b[0m\u001b[0;34m,\u001b[0m \u001b[0merrwrite\u001b[0m\u001b[0;34m,\u001b[0m\u001b[0;34m\u001b[0m\u001b[0;34m\u001b[0m\u001b[0m\n\u001b[0;32m--> 800\u001b[0;31m                                 restore_signals, start_new_session)\n\u001b[0m\u001b[1;32m    801\u001b[0m         \u001b[0;32mexcept\u001b[0m\u001b[0;34m:\u001b[0m\u001b[0;34m\u001b[0m\u001b[0;34m\u001b[0m\u001b[0m\n",
      "\u001b[0;32m/usr/lib/python3.7/subprocess.py\u001b[0m in \u001b[0;36m_execute_child\u001b[0;34m(self, args, executable, preexec_fn, close_fds, pass_fds, cwd, env, startupinfo, creationflags, shell, p2cread, p2cwrite, c2pread, c2pwrite, errread, errwrite, restore_signals, start_new_session)\u001b[0m\n\u001b[1;32m   1550\u001b[0m                             \u001b[0merr_msg\u001b[0m \u001b[0;34m+=\u001b[0m \u001b[0;34m': '\u001b[0m \u001b[0;34m+\u001b[0m \u001b[0mrepr\u001b[0m\u001b[0;34m(\u001b[0m\u001b[0merr_filename\u001b[0m\u001b[0;34m)\u001b[0m\u001b[0;34m\u001b[0m\u001b[0;34m\u001b[0m\u001b[0m\n\u001b[0;32m-> 1551\u001b[0;31m                     \u001b[0;32mraise\u001b[0m \u001b[0mchild_exception_type\u001b[0m\u001b[0;34m(\u001b[0m\u001b[0merrno_num\u001b[0m\u001b[0;34m,\u001b[0m \u001b[0merr_msg\u001b[0m\u001b[0;34m,\u001b[0m \u001b[0merr_filename\u001b[0m\u001b[0;34m)\u001b[0m\u001b[0;34m\u001b[0m\u001b[0;34m\u001b[0m\u001b[0m\n\u001b[0m\u001b[1;32m   1552\u001b[0m                 \u001b[0;32mraise\u001b[0m \u001b[0mchild_exception_type\u001b[0m\u001b[0;34m(\u001b[0m\u001b[0merr_msg\u001b[0m\u001b[0;34m)\u001b[0m\u001b[0;34m\u001b[0m\u001b[0;34m\u001b[0m\u001b[0m\n",
      "\u001b[0;31mFileNotFoundError\u001b[0m: [Errno 2] No such file or directory: 'chromedriver': 'chromedriver'",
      "\nDuring handling of the above exception, another exception occurred:\n",
      "\u001b[0;31mWebDriverException\u001b[0m                        Traceback (most recent call last)",
      "\u001b[0;32m<ipython-input-47-ec48251f04f8>\u001b[0m in \u001b[0;36m<module>\u001b[0;34m()\u001b[0m\n\u001b[0;32m----> 1\u001b[0;31m \u001b[0mdriver\u001b[0m \u001b[0;34m=\u001b[0m \u001b[0mwebdriver\u001b[0m\u001b[0;34m.\u001b[0m\u001b[0mChrome\u001b[0m\u001b[0;34m(\u001b[0m\u001b[0;34m)\u001b[0m\u001b[0;34m\u001b[0m\u001b[0;34m\u001b[0m\u001b[0m\n\u001b[0m",
      "\u001b[0;32m/usr/local/lib/python3.7/dist-packages/selenium/webdriver/chrome/webdriver.py\u001b[0m in \u001b[0;36m__init__\u001b[0;34m(self, executable_path, port, options, service_args, desired_capabilities, service_log_path, chrome_options, service, keep_alive)\u001b[0m\n\u001b[1;32m     71\u001b[0m                                         \u001b[0mport\u001b[0m\u001b[0;34m,\u001b[0m \u001b[0moptions\u001b[0m\u001b[0;34m,\u001b[0m\u001b[0;34m\u001b[0m\u001b[0;34m\u001b[0m\u001b[0m\n\u001b[1;32m     72\u001b[0m                                         \u001b[0mservice_args\u001b[0m\u001b[0;34m,\u001b[0m \u001b[0mdesired_capabilities\u001b[0m\u001b[0;34m,\u001b[0m\u001b[0;34m\u001b[0m\u001b[0;34m\u001b[0m\u001b[0m\n\u001b[0;32m---> 73\u001b[0;31m                                         service_log_path, service, keep_alive)\n\u001b[0m",
      "\u001b[0;32m/usr/local/lib/python3.7/dist-packages/selenium/webdriver/chromium/webdriver.py\u001b[0m in \u001b[0;36m__init__\u001b[0;34m(self, browser_name, vendor_prefix, port, options, service_args, desired_capabilities, service_log_path, service, keep_alive)\u001b[0m\n\u001b[1;32m     87\u001b[0m \u001b[0;34m\u001b[0m\u001b[0m\n\u001b[1;32m     88\u001b[0m         \u001b[0mself\u001b[0m\u001b[0;34m.\u001b[0m\u001b[0mservice\u001b[0m \u001b[0;34m=\u001b[0m \u001b[0mservice\u001b[0m\u001b[0;34m\u001b[0m\u001b[0;34m\u001b[0m\u001b[0m\n\u001b[0;32m---> 89\u001b[0;31m         \u001b[0mself\u001b[0m\u001b[0;34m.\u001b[0m\u001b[0mservice\u001b[0m\u001b[0;34m.\u001b[0m\u001b[0mstart\u001b[0m\u001b[0;34m(\u001b[0m\u001b[0;34m)\u001b[0m\u001b[0;34m\u001b[0m\u001b[0;34m\u001b[0m\u001b[0m\n\u001b[0m\u001b[1;32m     90\u001b[0m \u001b[0;34m\u001b[0m\u001b[0m\n\u001b[1;32m     91\u001b[0m         \u001b[0;32mtry\u001b[0m\u001b[0;34m:\u001b[0m\u001b[0;34m\u001b[0m\u001b[0;34m\u001b[0m\u001b[0m\n",
      "\u001b[0;32m/usr/local/lib/python3.7/dist-packages/selenium/webdriver/common/service.py\u001b[0m in \u001b[0;36mstart\u001b[0;34m(self)\u001b[0m\n\u001b[1;32m     81\u001b[0m                 raise WebDriverException(\n\u001b[1;32m     82\u001b[0m                     \"'%s' executable needs to be in PATH. %s\" % (\n\u001b[0;32m---> 83\u001b[0;31m                         os.path.basename(self.path), self.start_error_message)\n\u001b[0m\u001b[1;32m     84\u001b[0m                 )\n\u001b[1;32m     85\u001b[0m             \u001b[0;32melif\u001b[0m \u001b[0merr\u001b[0m\u001b[0;34m.\u001b[0m\u001b[0merrno\u001b[0m \u001b[0;34m==\u001b[0m \u001b[0merrno\u001b[0m\u001b[0;34m.\u001b[0m\u001b[0mEACCES\u001b[0m\u001b[0;34m:\u001b[0m\u001b[0;34m\u001b[0m\u001b[0;34m\u001b[0m\u001b[0m\n",
      "\u001b[0;31mWebDriverException\u001b[0m: Message: 'chromedriver' executable needs to be in PATH. Please see https://chromedriver.chromium.org/home\n"
     ]
    }
   ],
   "source": [
    "driver = webdriver.Chrome()"
   ]
  },
  {
   "cell_type": "markdown",
   "metadata": {
    "id": "vSzavv5sZaR_"
   },
   "source": [
    "## Extract and combine data from multiple pages"
   ]
  },
  {
   "cell_type": "markdown",
   "metadata": {
    "id": "nB5IqmOOZaR_"
   },
   "source": [
    "Now, Let's create a function to get required information from multiple pages."
   ]
  },
  {
   "cell_type": "code",
   "execution_count": null,
   "metadata": {
    "executionInfo": {
     "elapsed": 456,
     "status": "aborted",
     "timestamp": 1655902342655,
     "user": {
      "displayName": "darshan desai",
      "userId": "11472869745356489508"
     },
     "user_tz": -60
    },
    "id": "Q0HclVxxZaR_"
   },
   "outputs": [],
   "source": [
    "def get_page_stocks(page_number):\n",
    "    url = 'https://uk.finance.yahoo.com/most-active?count=25&offset=' + str(page_number)\n",
    "    doc = get_page(url)\n",
    "    symbols = get_stock_symbols(doc)\n",
    "    names = get_stock_names(doc)\n",
    "    prices = get_stock_prices(doc)\n",
    "    changes = get_stock_changes(doc)\n",
    "    percnt_changes = get_stock_percnt_changes(doc)\n",
    "    market_caps = get_stock_mkt_caps(doc)\n",
    "    urls = get_stock_urls(doc)\n",
    "    return symbols, names, prices, changes, percnt_changes, market_caps, urls"
   ]
  },
  {
   "cell_type": "code",
   "execution_count": null,
   "metadata": {
    "executionInfo": {
     "elapsed": 457,
     "status": "aborted",
     "timestamp": 1655902342656,
     "user": {
      "displayName": "darshan desai",
      "userId": "11472869745356489508"
     },
     "user_tz": -60
    },
    "id": "XNHuofV4ZaR_"
   },
   "outputs": [],
   "source": [
    "all_symbols, all_names, all_prices, all_changes, all_percnt_changes, all_mkt_caps, all_urls = [],[],[],[],[],[],[]\n",
    "\n",
    "for page_number in range(0,200,25):\n",
    "    symbols, names, prices, changes, percnt_changes, market_caps, urls = get_page_stocks(page_number)\n",
    "    all_symbols += symbols\n",
    "    all_names += names\n",
    "    all_prices += prices\n",
    "    all_changes += changes\n",
    "    all_percnt_changes += percnt_changes\n",
    "    all_mkt_caps += market_caps\n",
    "    all_urls += urls\n"
   ]
  },
  {
   "cell_type": "markdown",
   "metadata": {
    "id": "6hMtoImLZaR_"
   },
   "source": [
    "In the above cell, we are using the for loop to iterate through different pages and extract the required data and append the multiple dictionaries."
   ]
  },
  {
   "cell_type": "markdown",
   "metadata": {
    "id": "4TBKViUxZaR_"
   },
   "source": [
    "Now, let's create one dictionary to store data from all the pages."
   ]
  },
  {
   "cell_type": "code",
   "execution_count": null,
   "metadata": {
    "executionInfo": {
     "elapsed": 458,
     "status": "aborted",
     "timestamp": 1655902342657,
     "user": {
      "displayName": "darshan desai",
      "userId": "11472869745356489508"
     },
     "user_tz": -60
    },
    "id": "jcQBFuReZaR_"
   },
   "outputs": [],
   "source": [
    "stocks_all_pages = {\n",
    "    'symbol': all_symbols,\n",
    "    'name': all_names,\n",
    "    'price': all_prices,\n",
    "    'change': all_changes,\n",
    "    '% change': all_percnt_changes,\n",
    "    'market cap': all_mkt_caps,\n",
    "    'url': all_urls\n",
    "}"
   ]
  },
  {
   "cell_type": "code",
   "execution_count": null,
   "metadata": {
    "executionInfo": {
     "elapsed": 458,
     "status": "aborted",
     "timestamp": 1655902342657,
     "user": {
      "displayName": "darshan desai",
      "userId": "11472869745356489508"
     },
     "user_tz": -60
    },
    "id": "Rn9m_i95ZaSA"
   },
   "outputs": [],
   "source": [
    "dataframe = pd.DataFrame(stocks_all_pages)"
   ]
  },
  {
   "cell_type": "code",
   "execution_count": null,
   "metadata": {
    "executionInfo": {
     "elapsed": 459,
     "status": "aborted",
     "timestamp": 1655902342658,
     "user": {
      "displayName": "darshan desai",
      "userId": "11472869745356489508"
     },
     "user_tz": -60
    },
    "id": "5FqYNid0ZaSA",
    "scrolled": true
   },
   "outputs": [],
   "source": [
    "dataframe"
   ]
  },
  {
   "cell_type": "markdown",
   "metadata": {
    "id": "5JFZy-GLZaSA"
   },
   "source": [
    "Here's the preview of the first five and last five rows of the extracted file"
   ]
  },
  {
   "cell_type": "code",
   "execution_count": null,
   "metadata": {
    "executionInfo": {
     "elapsed": 458,
     "status": "aborted",
     "timestamp": 1655902342658,
     "user": {
      "displayName": "darshan desai",
      "userId": "11472869745356489508"
     },
     "user_tz": -60
    },
    "id": "kSIqLxA-ZaSA"
   },
   "outputs": [],
   "source": [
    "dataframe.head()"
   ]
  },
  {
   "cell_type": "code",
   "execution_count": null,
   "metadata": {
    "executionInfo": {
     "elapsed": 458,
     "status": "aborted",
     "timestamp": 1655902342658,
     "user": {
      "displayName": "darshan desai",
      "userId": "11472869745356489508"
     },
     "user_tz": -60
    },
    "id": "bsJzwZXgZaSA"
   },
   "outputs": [],
   "source": [
    "dataframe.tail()"
   ]
  },
  {
   "cell_type": "markdown",
   "metadata": {
    "id": "DGp29uVIZaSA"
   },
   "source": [
    "In the above section, We extracted data from multiple pages, created a dictionary for all the data and created a dataframe. We were able to extract 400 rows and 7 columns."
   ]
  },
  {
   "cell_type": "markdown",
   "metadata": {
    "id": "gvRt248GZaSA"
   },
   "source": [
    "## Save the extracted information to a CSV file."
   ]
  },
  {
   "cell_type": "code",
   "execution_count": null,
   "metadata": {
    "executionInfo": {
     "elapsed": 458,
     "status": "aborted",
     "timestamp": 1655902342658,
     "user": {
      "displayName": "darshan desai",
      "userId": "11472869745356489508"
     },
     "user_tz": -60
    },
    "id": "omVH2ktIZaSA"
   },
   "outputs": [],
   "source": [
    "dataframe.to_csv('active_stocks.csv', index=None)"
   ]
  },
  {
   "cell_type": "code",
   "execution_count": null,
   "metadata": {
    "executionInfo": {
     "elapsed": 458,
     "status": "aborted",
     "timestamp": 1655902342658,
     "user": {
      "displayName": "darshan desai",
      "userId": "11472869745356489508"
     },
     "user_tz": -60
    },
    "id": "MVBaxddNZaSB",
    "scrolled": true
   },
   "outputs": [],
   "source": [
    "!head active_stocks.csv"
   ]
  },
  {
   "cell_type": "markdown",
   "metadata": {
    "id": "II8WKP3JZaSB"
   },
   "source": [
    "We have saved the extracted information to a csv file. We've achieved the same output as defined at the beginning of the project."
   ]
  },
  {
   "cell_type": "code",
   "execution_count": null,
   "metadata": {
    "executionInfo": {
     "elapsed": 459,
     "status": "aborted",
     "timestamp": 1655902342659,
     "user": {
      "displayName": "darshan desai",
      "userId": "11472869745356489508"
     },
     "user_tz": -60
    },
    "id": "Z1WJe-p-ZaSB"
   },
   "outputs": [],
   "source": [
    "import jovian"
   ]
  },
  {
   "cell_type": "code",
   "execution_count": null,
   "metadata": {
    "executionInfo": {
     "elapsed": 460,
     "status": "aborted",
     "timestamp": 1655902342660,
     "user": {
      "displayName": "darshan desai",
      "userId": "11472869745356489508"
     },
     "user_tz": -60
    },
    "id": "9UOvVJqsZaSB"
   },
   "outputs": [],
   "source": [
    "jovian.commit(files=['active_stocks.csv'])"
   ]
  },
  {
   "cell_type": "markdown",
   "metadata": {
    "id": "8waCIzYYZaSB"
   },
   "source": [
    "## Summary"
   ]
  },
  {
   "cell_type": "markdown",
   "metadata": {
    "id": "42ois34kZaSB"
   },
   "source": [
    "Here's what we've covered in this notebook:\n",
    "\n",
    "1. Download the webpage using requests\n",
    "2. Parse the HTML source code using beautiful soup\n",
    "3. Extract information about the stocks from the page\n",
    "4. Compile extracted information into Python lists and dictionaries\n",
    "5. Extract data from multiple pages\n",
    "6. Save the extracted information to a CSV file.\n",
    "7. Extracted 7 columns and 400 rows of data.\n",
    "\n",
    "The CSV file we created has this format:\n",
    "\n",
    "![.](https://i.imgur.com/4ZtVtPc.png)\n"
   ]
  },
  {
   "cell_type": "markdown",
   "metadata": {
    "id": "Xuq3Ut8eZaSC"
   },
   "source": [
    "Here's the complete code for this project:"
   ]
  },
  {
   "cell_type": "code",
   "execution_count": null,
   "metadata": {
    "id": "b1zjPh1aZaSC"
   },
   "outputs": [],
   "source": [
    "def get_page(url):\n",
    "    #Download a web page and return a beautiful soup doc\n",
    "    \n",
    "    #Download the page\n",
    "    response = requests.get(url)\n",
    "    \n",
    "    # check if download was successful\n",
    "    if response.status_code != 200:\n",
    "        raise Exception('Unable to download page{}'. format(url))\n",
    "        \n",
    "    # Get the page HTML\n",
    "    page_content = response.text\n",
    "        \n",
    "     # Create a bs4 doc\n",
    "    doc = BeautifulSoup(response.text, 'html.parser')\n",
    "    return doc\n",
    "\n",
    "def get_stock_symbols(doc):\n",
    "    stk_table = doc.find('table', class_='W(100%)')\n",
    "    for stk in stk_table.find_all('tbody'):\n",
    "        rows = stk.find_all('tr')\n",
    "        for row in rows:\n",
    "            return [row.find('td').text for row in rows]\n",
    "        \n",
    "def get_stock_names(doc):\n",
    "    stk_table = doc.find('table', class_='W(100%)')\n",
    "    for stk in stk_table.find_all('tbody'):\n",
    "        rows = stk.find_all('tr')\n",
    "        for row in rows:\n",
    "            return [row.find('td', class_='Va(m) Ta(start) Px(10px) Fz(s)').text for row in rows]\n",
    "        \n",
    "def get_stock_prices(doc):\n",
    "    stk_table = doc.find('table', class_='W(100%)')\n",
    "    for stk in stk_table.find_all('tbody'):\n",
    "        rows = stk.find_all('tr')\n",
    "        for row in rows:\n",
    "            return [row.find('td', {'aria-label':'Price (intraday)'}).text for row in rows]\n",
    "        \n",
    "def get_stock_changes(doc):\n",
    "    stk_table = doc.find('table', class_='W(100%)')\n",
    "    for stk in stk_table.find_all('tbody'):\n",
    "        rows = stk.find_all('tr')\n",
    "        for row in rows:\n",
    "            return [row.find('td', {'aria-label':'Change'}).text for row in rows]\n",
    "        \n",
    "def get_stock_mkt_caps(doc):\n",
    "    stk_table = doc.find('table', class_='W(100%)')\n",
    "    for stk in stk_table.find_all('tbody'):\n",
    "        rows = stk.find_all('tr')\n",
    "        for row in rows:\n",
    "            return [row.find('td', {'aria-label':'Market cap'}).text for row in rows]\n",
    "        \n",
    "def get_stock_urls(doc):\n",
    "    stk_table = doc.find('table', class_='W(100%)')\n",
    "    base_url = 'https://uk.finance.yahoo.com/'\n",
    "    for stk in stk_table.find_all('tbody'):\n",
    "        rows = stk.find_all('tr')\n",
    "        for row in rows:\n",
    "            return [(base_url + row.find('a', href=True)['href']) for row in rows]\n",
    "        \n",
    "def get_page_stocks(page_number):\n",
    "    url = 'https://uk.finance.yahoo.com/most-active?count=25&offset=' + str(page_number)\n",
    "    doc = get_page(url)\n",
    "    symbols = get_stock_symbols(doc)\n",
    "    names = get_stock_names(doc)\n",
    "    prices = get_stock_prices(doc)\n",
    "    changes = get_stock_changes(doc)\n",
    "    percnt_changes = get_stock_percnt_changes(doc)\n",
    "    market_caps = get_stock_mkt_caps(doc)\n",
    "    urls = get_stock_urls(doc)\n",
    "    return symbols, names, prices, changes, percnt_changes, market_caps, urls\n",
    "\n",
    "# all_symbols, all_names, all_prices, all_changes, all_percnt_changes, all_mkt_caps, all_urls = [],[],[],[],[],[],[]\n",
    "for page_number in range(0,200,25):\n",
    "    symbols, names, prices, changes, percnt_changes, market_caps, urls = get_page_stocks(page_number)\n",
    "    all_symbols += symbols\n",
    "    all_names += names\n",
    "    all_prices += prices\n",
    "    all_changes += changes\n",
    "    all_percnt_changes += percnt_changes\n",
    "    all_mkt_caps += market_caps\n",
    "    all_urls += urls\n",
    "    \n",
    "stocks_all_pages = {\n",
    "    'symbol': all_symbols,\n",
    "    'name': all_names,\n",
    "    'price': all_prices,\n",
    "    'change': all_changes,\n",
    "    '% change': all_percnt_changes,\n",
    "    'market cap': all_mkt_caps,\n",
    "    'url': all_urls\n",
    "}\n",
    "\n",
    "dataframe = pd.DataFrame(stocks_all_pages)\n",
    "dataframe.to_csv('active_stocks.csv', index=None)"
   ]
  },
  {
   "cell_type": "markdown",
   "metadata": {
    "id": "fG8PY_q_ZaSC"
   },
   "source": [
    "## Future Work"
   ]
  },
  {
   "cell_type": "markdown",
   "metadata": {
    "id": "bsPuxiNfZaSC"
   },
   "source": [
    "- Add a company profile\n",
    "- Extract additional fields available from the pages like volume, avg vol(3-month), PE ration and 52-week range etc.\n",
    "- Get information from each individual stock page"
   ]
  },
  {
   "cell_type": "markdown",
   "metadata": {
    "id": "NwVGNnAVZaSC"
   },
   "source": [
    "## References"
   ]
  },
  {
   "cell_type": "markdown",
   "metadata": {
    "id": "zR8_a958ZaSC"
   },
   "source": [
    "1. https://jovian.ai/learn/zero-to-data-analyst-bootcamp/lesson/web-scraping-and-rest-apis\n",
    "2. https://docs.python-requests.org/en/master/\n",
    "3. https://beautiful-soup-4.readthedocs.io/en/latest/\n",
    "4. https://developer.mozilla.org/en-US/docs/Web/HTTP/Status\n",
    "5. https://simple.wikipedia.org/wiki/HTML\n",
    "    "
   ]
  },
  {
   "cell_type": "code",
   "execution_count": null,
   "metadata": {
    "id": "FrhNxUIUZaSD"
   },
   "outputs": [],
   "source": [
    "jovian.submit(assignment=\"zerotoanalyst-project1\")"
   ]
  }
 ],
 "metadata": {
  "colab": {
   "name": "yahoo-web-scraping-project-final.ipynb",
   "provenance": []
  },
  "kernelspec": {
   "display_name": "Python 3 (ipykernel)",
   "language": "python",
   "name": "python3"
  },
  "language_info": {
   "codemirror_mode": {
    "name": "ipython",
    "version": 3
   },
   "file_extension": ".py",
   "mimetype": "text/x-python",
   "name": "python",
   "nbconvert_exporter": "python",
   "pygments_lexer": "ipython3",
   "version": "3.9.6"
  }
 },
 "nbformat": 4,
 "nbformat_minor": 0
}